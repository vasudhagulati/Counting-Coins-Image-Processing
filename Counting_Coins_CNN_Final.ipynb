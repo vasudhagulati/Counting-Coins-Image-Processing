{
  "nbformat": 4,
  "nbformat_minor": 0,
  "metadata": {
    "colab": {
      "provenance": []
    },
    "kernelspec": {
      "name": "python3",
      "display_name": "Python 3"
    },
    "language_info": {
      "name": "python"
    }
  },
  "cells": [
    {
      "cell_type": "code",
      "execution_count": null,
      "metadata": {
        "id": "gqzyqVtsBOCG"
      },
      "outputs": [],
      "source": [
        "import tensorflow as tf\n",
        "import pandas as pd\n",
        "import matplotlib.pyplot as plt\n",
        "import numpy as np\n",
        "from tensorflow import keras\n",
        "from tensorflow.keras import layers\n",
        "from tensorflow.keras.models import Sequential\n",
        "from keras.models import Sequential\n",
        "import glob\n",
        "import cv2\n",
        "from pathlib import Path\n",
        "import pathlib\n",
        "import PIL\n",
        "import os\n",
        "from PIL import Image\n",
        "from sklearn.preprocessing import OneHotEncoder\n",
        "from keras import Sequential\n",
        "from keras.layers import InputLayer, Conv2D, MaxPooling2D, BatchNormalization, Dropout, Dense, Flatten\n",
        "from sklearn.model_selection import train_test_split"
      ]
    },
    {
      "cell_type": "code",
      "source": [
        "from google.colab import drive\n",
        "drive.mount('/content/drive')"
      ],
      "metadata": {
        "colab": {
          "base_uri": "https://localhost:8080/"
        },
        "id": "Ag3Xy7anBUO5",
        "outputId": "a4029801-7e04-4a2c-cc8c-8823d6c18986"
      },
      "execution_count": null,
      "outputs": [
        {
          "output_type": "stream",
          "name": "stdout",
          "text": [
            "Drive already mounted at /content/drive; to attempt to forcibly remount, call drive.mount(\"/content/drive\", force_remount=True).\n"
          ]
        }
      ]
    },
    {
      "cell_type": "code",
      "source": [
        "file = r'/content/drive/MyDrive/DeepLearningFall23/Project/coins_count_values.csv'\n",
        "df_coins = pd.read_csv(file)\n",
        "print(df_coins)"
      ],
      "metadata": {
        "colab": {
          "base_uri": "https://localhost:8080/"
        },
        "id": "VB3WJo5-BUji",
        "outputId": "d0353de4-b38a-41fb-8f69-c0f91b91a95b"
      },
      "execution_count": null,
      "outputs": [
        {
          "output_type": "stream",
          "name": "stdout",
          "text": [
            "         folder      image_name  coins_count\n",
            "0     all_coins  01207e3d7e.jpg            5\n",
            "1     all_coins  0140acf6eb.jpg            4\n",
            "2     all_coins  025c8579f0.jpg            2\n",
            "3     all_coins  028ca794e7.jpg            4\n",
            "4     all_coins  02e080206f.jpg           40\n",
            "...         ...             ...          ...\n",
            "1439  yen_coins  f8934b8498.jpg            6\n",
            "1440  yen_coins  fb5981d5de.jpg            2\n",
            "1441  yen_coins  fb6f6573b6.jpg            2\n",
            "1442  yen_coins  fe3d6dfd45.jpg            1\n",
            "1443  yen_coins  ffa5e02e21.jpg            2\n",
            "\n",
            "[1444 rows x 3 columns]\n"
          ]
        }
      ]
    },
    {
      "cell_type": "code",
      "source": [
        "import matplotlib.pyplot as plt\n",
        "plt.figure(figsize = (8,8))\n",
        "plt.bar(df_coins['folder'], df_coins['coins_count'])\n",
        "plt.title('Count of Coins for each currencies')\n",
        "plt.xlabel('Currencies')\n",
        "plt.ylabel('Coin Count')\n",
        "plt.show()"
      ],
      "metadata": {
        "colab": {
          "base_uri": "https://localhost:8080/",
          "height": 514
        },
        "id": "GeDLdRgkCOAD",
        "outputId": "58e075dc-30da-48a2-8b77-88210a114727"
      },
      "execution_count": null,
      "outputs": [
        {
          "output_type": "display_data",
          "data": {
            "text/plain": [
              "<Figure size 576x576 with 1 Axes>"
            ],
            "image/png": "[encoded data removed]"
          },
          "metadata": {
            "needs_background": "light"
          }
        }
      ]
    },
    {
      "cell_type": "code",
      "source": [
        "class_names = np.sort(df_coins.coins_count.unique())\n",
        "class_names"
      ],
      "metadata": {
        "colab": {
          "base_uri": "https://localhost:8080/"
        },
        "id": "UrVlhVOFBUmY",
        "outputId": "e704713e-81c8-4798-841d-98a89d8d7510"
      },
      "execution_count": null,
      "outputs": [
        {
          "output_type": "execute_result",
          "data": {
            "text/plain": [
              "array([  1,   2,   3,   4,   5,   6,   7,   8,   9,  10,  11,  12,  13,\n",
              "        14,  15,  16,  17,  18,  19,  20,  21,  23,  24,  26,  27,  28,\n",
              "        29,  30,  32,  34,  35,  36,  39,  40,  49,  96, 102])"
            ]
          },
          "metadata": {},
          "execution_count": 7
        }
      ]
    },
    {
      "cell_type": "code",
      "source": [
        "df_coins.coins_count.unique().size"
      ],
      "metadata": {
        "colab": {
          "base_uri": "https://localhost:8080/"
        },
        "id": "-LzkJ9PsHrA6",
        "outputId": "469ad9fd-930e-4433-e28c-110020d6a0ec"
      },
      "execution_count": null,
      "outputs": [
        {
          "output_type": "execute_result",
          "data": {
            "text/plain": [
              "37"
            ]
          },
          "metadata": {},
          "execution_count": 8
        }
      ]
    },
    {
      "cell_type": "code",
      "source": [
        "df_coins.image_name.unique().size"
      ],
      "metadata": {
        "colab": {
          "base_uri": "https://localhost:8080/"
        },
        "id": "CQqjMGauBUpP",
        "outputId": "d7ab5fac-bbd0-4a3e-be45-e77b5da01657"
      },
      "execution_count": null,
      "outputs": [
        {
          "output_type": "execute_result",
          "data": {
            "text/plain": [
              "1428"
            ]
          },
          "metadata": {},
          "execution_count": 9
        }
      ]
    },
    {
      "cell_type": "code",
      "source": [
        "def fromJPEGtoNumPyArray(path):\n",
        "    image = Image.open(path)\n",
        "    image = image.resize((128, 128))\n",
        "    image_array = np.array(image).astype(float)\n",
        "    image_array /= 255\n",
        "    image.close()\n",
        "    return image_array"
      ],
      "metadata": {
        "id": "H4FRK54OsGoc"
      },
      "execution_count": null,
      "outputs": []
    },
    {
      "cell_type": "code",
      "source": [
        "coins = []\n",
        "coins_y = []\n",
        "paths = ['/content/drive/MyDrive/DeepLearningFall23/Project/coin_images/all_coins/',\n",
        "         '/content/drive/MyDrive/DeepLearningFall23/Project/coin_images/china_coins/',\n",
        "         '/content/drive/MyDrive/DeepLearningFall23/Project/coin_images/euro_coins/',\n",
        "         '/content/drive/MyDrive/DeepLearningFall23/Project/coin_images/indian_coins/',\n",
        "         '/content/drive/MyDrive/DeepLearningFall23/Project/coin_images/peso_coins/',\n",
        "         '/content/drive/MyDrive/DeepLearningFall23/Project/coin_images/us_coins/',\n",
        "         '/content/drive/MyDrive/DeepLearningFall23/Project/coin_images/yen_coins/']\n",
        "\n",
        "for path in paths:\n",
        "    for file in os.listdir(path):\n",
        "        coins.append(fromJPEGtoNumPyArray(path + file))\n",
        "        coins_y.append(*df_coins['coins_count'].loc[df_coins['image_name'] == file].drop_duplicates().tolist())"
      ],
      "metadata": {
        "id": "HkMaYijorbjU"
      },
      "execution_count": null,
      "outputs": []
    },
    {
      "cell_type": "code",
      "source": [
        "X = np.array(coins)\n",
        "X.shape"
      ],
      "metadata": {
        "colab": {
          "base_uri": "https://localhost:8080/"
        },
        "id": "r1hRgn-Ss1SN",
        "outputId": "29cadba8-f8d6-40ab-9f05-9121c92e2ce1"
      },
      "execution_count": null,
      "outputs": [
        {
          "output_type": "execute_result",
          "data": {
            "text/plain": [
              "(1444, 128, 128, 3)"
            ]
          },
          "metadata": {},
          "execution_count": 12
        }
      ]
    },
    {
      "cell_type": "code",
      "source": [
        "y = OneHotEncoder(sparse = False).fit_transform(np.array(coins_y).reshape((-1, 1)))\n",
        "y.shape"
      ],
      "metadata": {
        "colab": {
          "base_uri": "https://localhost:8080/"
        },
        "id": "dtRn-rHss4hg",
        "outputId": "1349a41e-ec87-4fe1-ba54-175c3d8d5468"
      },
      "execution_count": null,
      "outputs": [
        {
          "output_type": "execute_result",
          "data": {
            "text/plain": [
              "(1444, 37)"
            ]
          },
          "metadata": {},
          "execution_count": 13
        }
      ]
    },
    {
      "cell_type": "markdown",
      "source": [
        "Splitting the data into Test and Train (80/20)"
      ],
      "metadata": {
        "id": "8TjtHai6tpiq"
      }
    },
    {
      "cell_type": "code",
      "source": [
        "X_train, X_test, y_train, y_test = train_test_split(X, y, test_size = 0.20)"
      ],
      "metadata": {
        "id": "KX3-Sgy1tCE9"
      },
      "execution_count": null,
      "outputs": []
    },
    {
      "cell_type": "markdown",
      "source": [
        "**Model 1: Base Model**"
      ],
      "metadata": {
        "id": "dLcMxPZ0tWeP"
      }
    },
    {
      "cell_type": "code",
      "source": [
        "#Building the Model\n",
        "model_1 = Sequential()\n",
        "model_1.add(InputLayer(input_shape = (128, 128, 3), sparse=False))\n",
        "\n",
        "model_1.add(Conv2D(16, kernel_size = (3, 3), activation = 'ReLU'))\n",
        "model_1.add(MaxPooling2D((2,2)))\n",
        "model_1.add(Dropout(0.1))    \n",
        "model_1.add(Conv2D(32, kernel_size = (3, 3), activation = 'ReLU'))\n",
        "model_1.add(MaxPooling2D((2,2)))\n",
        "model_1.add(Dropout(0.1))\n",
        "model_1.add(Conv2D(64, kernel_size = (3, 3), activation = 'ReLU'))\n",
        "model_1.add(MaxPooling2D())\n",
        "model_1.add(Dropout(0.1))\n",
        "\n",
        "model_1.add(Flatten())\n",
        "model_1.add(Dense(500, activation = 'ReLU'))\n",
        "\n",
        "model_1.add(Dense(y.shape[1], activation = 'softmax'))\n",
        "\n",
        "model_1.compile(optimizer = 'adam', loss = 'categorical_crossentropy', metrics = ['accuracy'])"
      ],
      "metadata": {
        "id": "Zp45LiL0tVqk"
      },
      "execution_count": null,
      "outputs": []
    },
    {
      "cell_type": "code",
      "source": [
        "#Model Summary\n",
        "model_1.summary()"
      ],
      "metadata": {
        "colab": {
          "base_uri": "https://localhost:8080/"
        },
        "id": "3jn4trpsus1i",
        "outputId": "dc0b457e-fa70-4f7d-acbf-017a2e2c66e9"
      },
      "execution_count": null,
      "outputs": [
        {
          "output_type": "stream",
          "name": "stdout",
          "text": [
            "Model: \"sequential\"\n",
            "_________________________________________________________________\n",
            " Layer (type)                Output Shape              Param #   \n",
            "=================================================================\n",
            " conv2d (Conv2D)             (None, 126, 126, 16)      448       \n",
            "                                                                 \n",
            " max_pooling2d (MaxPooling2D  (None, 63, 63, 16)       0         \n",
            " )                                                               \n",
            "                                                                 \n",
            " dropout (Dropout)           (None, 63, 63, 16)        0         \n",
            "                                                                 \n",
            " conv2d_1 (Conv2D)           (None, 61, 61, 32)        4640      \n",
            "                                                                 \n",
            " max_pooling2d_1 (MaxPooling  (None, 30, 30, 32)       0         \n",
            " 2D)                                                             \n",
            "                                                                 \n",
            " dropout_1 (Dropout)         (None, 30, 30, 32)        0         \n",
            "                                                                 \n",
            " conv2d_2 (Conv2D)           (None, 28, 28, 64)        18496     \n",
            "                                                                 \n",
            " max_pooling2d_2 (MaxPooling  (None, 14, 14, 64)       0         \n",
            " 2D)                                                             \n",
            "                                                                 \n",
            " dropout_2 (Dropout)         (None, 14, 14, 64)        0         \n",
            "                                                                 \n",
            " flatten (Flatten)           (None, 12544)             0         \n",
            "                                                                 \n",
            " dense (Dense)               (None, 500)               6272500   \n",
            "                                                                 \n",
            " dense_1 (Dense)             (None, 37)                18537     \n",
            "                                                                 \n",
            "=================================================================\n",
            "Total params: 6,314,621\n",
            "Trainable params: 6,314,621\n",
            "Non-trainable params: 0\n",
            "_________________________________________________________________\n"
          ]
        }
      ]
    },
    {
      "cell_type": "code",
      "source": [
        "#Model Fit\n",
        "history = model_1.fit(X_train, y_train, epochs = 20, batch_size = 40, validation_data=(X_test, y_test), verbose = 1)"
      ],
      "metadata": {
        "colab": {
          "base_uri": "https://localhost:8080/"
        },
        "id": "8jESi8YruwrQ",
        "outputId": "165d169d-718e-4b8e-e459-80d0ff798071"
      },
      "execution_count": null,
      "outputs": [
        {
          "output_type": "stream",
          "name": "stdout",
          "text": [
            "Epoch 1/20\n",
            "29/29 [==============================] - 22s 723ms/step - loss: 2.9716 - accuracy: 0.2511 - val_loss: 2.5167 - val_accuracy: 0.2941\n",
            "Epoch 2/20\n",
            "29/29 [==============================] - 20s 696ms/step - loss: 2.3860 - accuracy: 0.3316 - val_loss: 2.5625 - val_accuracy: 0.3322\n",
            "Epoch 3/20\n",
            "29/29 [==============================] - 21s 726ms/step - loss: 2.2834 - accuracy: 0.3558 - val_loss: 2.3455 - val_accuracy: 0.3391\n",
            "Epoch 4/20\n",
            "29/29 [==============================] - 21s 740ms/step - loss: 1.8700 - accuracy: 0.5030 - val_loss: 1.9022 - val_accuracy: 0.4948\n",
            "Epoch 5/20\n",
            "29/29 [==============================] - 21s 708ms/step - loss: 1.4048 - accuracy: 0.6069 - val_loss: 1.5926 - val_accuracy: 0.5709\n",
            "Epoch 6/20\n",
            "29/29 [==============================] - 21s 709ms/step - loss: 0.9934 - accuracy: 0.7195 - val_loss: 1.3298 - val_accuracy: 0.6817\n",
            "Epoch 7/20\n",
            "29/29 [==============================] - 20s 706ms/step - loss: 0.6864 - accuracy: 0.8130 - val_loss: 1.1938 - val_accuracy: 0.7197\n",
            "Epoch 8/20\n",
            "29/29 [==============================] - 21s 713ms/step - loss: 0.4433 - accuracy: 0.8779 - val_loss: 1.0582 - val_accuracy: 0.7820\n",
            "Epoch 9/20\n",
            "29/29 [==============================] - 21s 737ms/step - loss: 0.2914 - accuracy: 0.9195 - val_loss: 1.0836 - val_accuracy: 0.8028\n",
            "Epoch 10/20\n",
            "29/29 [==============================] - 25s 878ms/step - loss: 0.1508 - accuracy: 0.9610 - val_loss: 1.1386 - val_accuracy: 0.8235\n",
            "Epoch 11/20\n",
            "29/29 [==============================] - 21s 719ms/step - loss: 0.0980 - accuracy: 0.9810 - val_loss: 1.1565 - val_accuracy: 0.8235\n",
            "Epoch 12/20\n",
            "29/29 [==============================] - 21s 720ms/step - loss: 0.1177 - accuracy: 0.9714 - val_loss: 1.2429 - val_accuracy: 0.8304\n",
            "Epoch 13/20\n",
            "29/29 [==============================] - 21s 710ms/step - loss: 0.0691 - accuracy: 0.9810 - val_loss: 1.2311 - val_accuracy: 0.8374\n",
            "Epoch 14/20\n",
            "29/29 [==============================] - 21s 711ms/step - loss: 0.0561 - accuracy: 0.9913 - val_loss: 1.2593 - val_accuracy: 0.8339\n",
            "Epoch 15/20\n",
            "29/29 [==============================] - 21s 714ms/step - loss: 0.0381 - accuracy: 0.9939 - val_loss: 1.2148 - val_accuracy: 0.8374\n",
            "Epoch 16/20\n",
            "29/29 [==============================] - 21s 729ms/step - loss: 0.0300 - accuracy: 0.9922 - val_loss: 1.3079 - val_accuracy: 0.8408\n",
            "Epoch 17/20\n",
            "29/29 [==============================] - 21s 721ms/step - loss: 0.0335 - accuracy: 0.9957 - val_loss: 1.2441 - val_accuracy: 0.8339\n",
            "Epoch 18/20\n",
            "29/29 [==============================] - 21s 737ms/step - loss: 0.0179 - accuracy: 0.9957 - val_loss: 1.3004 - val_accuracy: 0.8408\n",
            "Epoch 19/20\n",
            "29/29 [==============================] - 21s 716ms/step - loss: 0.0278 - accuracy: 0.9948 - val_loss: 1.2957 - val_accuracy: 0.8443\n",
            "Epoch 20/20\n",
            "29/29 [==============================] - 21s 715ms/step - loss: 0.0250 - accuracy: 0.9948 - val_loss: 1.2297 - val_accuracy: 0.8408\n"
          ]
        }
      ]
    },
    {
      "cell_type": "markdown",
      "source": [
        "**Model Evaluation**"
      ],
      "metadata": {
        "id": "l3S54fy4vd9E"
      }
    },
    {
      "cell_type": "code",
      "source": [
        "model_1.evaluate(X_test, y_test)"
      ],
      "metadata": {
        "colab": {
          "base_uri": "https://localhost:8080/"
        },
        "id": "k5Y469PNvbIz",
        "outputId": "24e64bfa-93bc-4189-a669-75c5f3d08966"
      },
      "execution_count": null,
      "outputs": [
        {
          "output_type": "stream",
          "name": "stdout",
          "text": [
            "10/10 [==============================] - 1s 139ms/step - loss: 1.2297 - accuracy: 0.8408\n"
          ]
        },
        {
          "output_type": "execute_result",
          "data": {
            "text/plain": [
              "[1.2296757698059082, 0.8408304452896118]"
            ]
          },
          "metadata": {},
          "execution_count": 18
        }
      ]
    },
    {
      "cell_type": "code",
      "source": [
        "#Plot Training Accuracy Vs Test Accuracy\n",
        "plt.plot(history.history['accuracy'], label='Training accuracy')\n",
        "plt.plot(history.history['val_accuracy'], label='Validation accuracy')\n",
        "plt.xlabel('Epoch')\n",
        "plt.ylabel('Accuracy')\n",
        "plt.legend(loc='lower right')"
      ],
      "metadata": {
        "colab": {
          "base_uri": "https://localhost:8080/",
          "height": 297
        },
        "id": "_qS3H75HK1Uu",
        "outputId": "4ac7f878-ea07-4b77-e292-cc1477ba3ae2"
      },
      "execution_count": null,
      "outputs": [
        {
          "output_type": "execute_result",
          "data": {
            "text/plain": [
              "<matplotlib.legend.Legend at 0x7ff6481c22e0>"
            ]
          },
          "metadata": {},
          "execution_count": 19
        },
        {
          "output_type": "display_data",
          "data": {
            "text/plain": [
              "<Figure size 432x288 with 1 Axes>"
            ],
            "image/png": "[encoded data removed]"
          },
          "metadata": {
            "needs_background": "light"
          }
        }
      ]
    },
    {
      "cell_type": "code",
      "source": [
        "#Plot Training Loss Vs Test Loss\n",
        "plt.plot(history.history['loss'], label='Training Loss')\n",
        "plt.plot(history.history['val_loss'], label='Validation Loss')\n",
        "plt.xlabel('Epoch')\n",
        "plt.ylabel('Loss')\n",
        "plt.legend(loc='upper right')"
      ],
      "metadata": {
        "colab": {
          "base_uri": "https://localhost:8080/",
          "height": 297
        },
        "id": "Whlky0PCEkmf",
        "outputId": "500346ec-5b92-481d-a165-10d7b862931d"
      },
      "execution_count": null,
      "outputs": [
        {
          "output_type": "execute_result",
          "data": {
            "text/plain": [
              "<matplotlib.legend.Legend at 0x7ff6481e5670>"
            ]
          },
          "metadata": {},
          "execution_count": 20
        },
        {
          "output_type": "display_data",
          "data": {
            "text/plain": [
              "<Figure size 432x288 with 1 Axes>"
            ],
            "image/png": "[encoded data removed]"
          },
          "metadata": {
            "needs_background": "light"
          }
        }
      ]
    },
    {
      "cell_type": "markdown",
      "source": [
        "**Model Prediction**"
      ],
      "metadata": {
        "id": "wOm8Kc6Mcj1n"
      }
    },
    {
      "cell_type": "code",
      "source": [
        "def tryImagesForModel1(path):\n",
        "  coin = []\n",
        "  coin.append(fromJPEGtoNumPyArray(path))\n",
        "    \n",
        "  return np.array(coin)"
      ],
      "metadata": {
        "id": "dnBzc8myxcDk"
      },
      "execution_count": null,
      "outputs": []
    },
    {
      "cell_type": "code",
      "source": [
        "paths = '/content/drive/MyDrive/DeepLearningFall23/Project/GoogleImages/euro coins.jpg'\n",
        "trial = tryImagesForModel1(paths)\n",
        "img_prediction = model_1.predict(trial)\n",
        "score = tf.nn.softmax(img_prediction[0])\n",
        "print(\n",
        "    \"This image most likely belongs to {} with a {:.2f} percent confidence.\"\n",
        "    .format(class_names[np.argmax(score)], 100 * np.max(score))\n",
        ")"
      ],
      "metadata": {
        "colab": {
          "base_uri": "https://localhost:8080/"
        },
        "id": "CokVmMs8cOAb",
        "outputId": "38ff8f83-6f54-474e-f58a-6425bd76cdb5"
      },
      "execution_count": null,
      "outputs": [
        {
          "output_type": "stream",
          "name": "stdout",
          "text": [
            "1/1 [==============================] - 0s 113ms/step\n",
            "This image most likely belongs to 8 with a 6.99 percent confidence.\n"
          ]
        }
      ]
    },
    {
      "cell_type": "markdown",
      "source": [
        "**Model 2**"
      ],
      "metadata": {
        "id": "wEhlZADdwkQa"
      }
    },
    {
      "cell_type": "code",
      "source": [
        "#Data Augumentation: Using Image Rotation\n",
        "def rotateImage(path, rotate):\n",
        "    image = Image.open(path)\n",
        "    image = image.resize((128, 128))\n",
        "    image = image.rotate(rotate)\n",
        "    image_array = np.array(image).astype(float) / 255\n",
        "    image.close()\n",
        "    return image_array "
      ],
      "metadata": {
        "id": "hXuWfZicKbGg"
      },
      "execution_count": null,
      "outputs": []
    },
    {
      "cell_type": "code",
      "source": [
        "coins_y = []\n",
        "coins = []\n",
        "paths = ['../content/drive/MyDrive/DeepLearningFall23/Project/coin_images/all_coins/',\n",
        "        '../content/drive/MyDrive/DeepLearningFall23/Project/coin_images/china_coins/',\n",
        "        '../content/drive/MyDrive/DeepLearningFall23/Project/coin_images/euro_coins/',\n",
        "        '../content/drive/MyDrive/DeepLearningFall23/Project/coin_images/indian_coins/',\n",
        "        '../content/drive/MyDrive/DeepLearningFall23/Project/coin_images/peso_coins/',\n",
        "        '../content/drive/MyDrive/DeepLearningFall23/Project/coin_images/us_coins/',\n",
        "        '../content/drive/MyDrive/DeepLearningFall23/Project/coin_images/yen_coins/']\n",
        "\n",
        "for path in paths:\n",
        "    for degree in range(0, 360, 90):\n",
        "        for file in os.listdir(path):\n",
        "            coins.append(rotateImage(path + file, degree))\n",
        "            coins_y.append(*df_coins['coins_count']\n",
        "                           .loc[df_coins['image_name'] == file]\n",
        "                           .drop_duplicates()\n",
        "                           .tolist())   \n",
        "             \n",
        "X = np.array(coins)\n",
        "X.shape        "
      ],
      "metadata": {
        "colab": {
          "base_uri": "https://localhost:8080/"
        },
        "id": "83DuSWWlEemM",
        "outputId": "118e5fb5-fe09-4edd-f538-cddcc0587c64"
      },
      "execution_count": null,
      "outputs": [
        {
          "output_type": "execute_result",
          "data": {
            "text/plain": [
              "(5776, 128, 128, 3)"
            ]
          },
          "metadata": {},
          "execution_count": 24
        }
      ]
    },
    {
      "cell_type": "code",
      "source": [
        "y = OneHotEncoder(sparse = False).fit_transform(np.array(coins_y).reshape((-1, 1)))\n",
        "y.shape"
      ],
      "metadata": {
        "colab": {
          "base_uri": "https://localhost:8080/"
        },
        "id": "ehDo3_owxmy6",
        "outputId": "c7f399fb-bb46-422e-ccdf-5427eac7ec7a"
      },
      "execution_count": null,
      "outputs": [
        {
          "output_type": "execute_result",
          "data": {
            "text/plain": [
              "(5776, 37)"
            ]
          },
          "metadata": {},
          "execution_count": 25
        }
      ]
    },
    {
      "cell_type": "code",
      "source": [
        "#Model2: Splitting into test and train\n",
        "X_train, X_test, y_train, y_test = train_test_split(X, y, test_size = 0.20)"
      ],
      "metadata": {
        "id": "nD_zWqGCIpLc"
      },
      "execution_count": null,
      "outputs": []
    },
    {
      "cell_type": "code",
      "source": [
        "#Model2: Building\n",
        "model_2 = Sequential()\n",
        "model_2.add(InputLayer((128, 128, 3)))\n",
        "\n",
        "model_2.add(Conv2D(16, kernel_size = (3, 3), activation = 'ReLU'))\n",
        "model_2.add(MaxPooling2D((2, 2)))\n",
        "model_2.add(Dropout(0.5))\n",
        "model_2.add(Conv2D(32, kernel_size = (3, 3), activation = 'ReLU'))\n",
        "model_2.add(MaxPooling2D((2, 2)))\n",
        "model_2.add(Dropout(0.5))\n",
        "model_2.add(Conv2D(64, kernel_size = (3, 3), activation = 'ReLU'))\n",
        "model_2.add(MaxPooling2D((2, 2)))\n",
        "model_2.add(Dropout(0.5))\n",
        "model_2.add(Conv2D(128, kernel_size = (3, 3), activation = 'ReLU'))\n",
        "model_2.add(MaxPooling2D((2, 2)))\n",
        "model_2.add(Dropout(0.5))\n",
        "model_2.add(Flatten())\n",
        "model_2.add(Dense(1000, activation = 'ReLU'))\n",
        "model_2.add(Dense(y.shape[1], activation = 'softmax'))\n",
        "\n",
        "model_2.compile(optimizer = 'adam', metrics = ['accuracy'], loss = 'categorical_crossentropy')"
      ],
      "metadata": {
        "id": "VyaOyXC2JnCe"
      },
      "execution_count": null,
      "outputs": []
    },
    {
      "cell_type": "code",
      "source": [
        "model_2.summary()"
      ],
      "metadata": {
        "colab": {
          "base_uri": "https://localhost:8080/"
        },
        "id": "T44KhkbaJqnt",
        "outputId": "8f07b98c-c8c1-4f84-c5ee-4a825280c18a"
      },
      "execution_count": null,
      "outputs": [
        {
          "output_type": "stream",
          "name": "stdout",
          "text": [
            "Model: \"sequential_1\"\n",
            "_________________________________________________________________\n",
            " Layer (type)                Output Shape              Param #   \n",
            "=================================================================\n",
            " conv2d_3 (Conv2D)           (None, 126, 126, 16)      448       \n",
            "                                                                 \n",
            " max_pooling2d_3 (MaxPooling  (None, 63, 63, 16)       0         \n",
            " 2D)                                                             \n",
            "                                                                 \n",
            " dropout_3 (Dropout)         (None, 63, 63, 16)        0         \n",
            "                                                                 \n",
            " conv2d_4 (Conv2D)           (None, 61, 61, 32)        4640      \n",
            "                                                                 \n",
            " max_pooling2d_4 (MaxPooling  (None, 30, 30, 32)       0         \n",
            " 2D)                                                             \n",
            "                                                                 \n",
            " dropout_4 (Dropout)         (None, 30, 30, 32)        0         \n",
            "                                                                 \n",
            " conv2d_5 (Conv2D)           (None, 28, 28, 64)        18496     \n",
            "                                                                 \n",
            " max_pooling2d_5 (MaxPooling  (None, 14, 14, 64)       0         \n",
            " 2D)                                                             \n",
            "                                                                 \n",
            " dropout_5 (Dropout)         (None, 14, 14, 64)        0         \n",
            "                                                                 \n",
            " conv2d_6 (Conv2D)           (None, 12, 12, 128)       73856     \n",
            "                                                                 \n",
            " max_pooling2d_6 (MaxPooling  (None, 6, 6, 128)        0         \n",
            " 2D)                                                             \n",
            "                                                                 \n",
            " dropout_6 (Dropout)         (None, 6, 6, 128)         0         \n",
            "                                                                 \n",
            " flatten_1 (Flatten)         (None, 4608)              0         \n",
            "                                                                 \n",
            " dense_2 (Dense)             (None, 1000)              4609000   \n",
            "                                                                 \n",
            " dense_3 (Dense)             (None, 37)                37037     \n",
            "                                                                 \n",
            "=================================================================\n",
            "Total params: 4,743,477\n",
            "Trainable params: 4,743,477\n",
            "Non-trainable params: 0\n",
            "_________________________________________________________________\n"
          ]
        }
      ]
    },
    {
      "cell_type": "code",
      "source": [
        "model_2.fit(X_train, y_train, epochs = 30, batch_size = 50, validation_data=(X_test, y_test), verbose = 1)"
      ],
      "metadata": {
        "colab": {
          "base_uri": "https://localhost:8080/"
        },
        "id": "RF7TAGkdJtfB",
        "outputId": "14231b2d-2b32-4cf8-a82c-4d8e1f5e35f8"
      },
      "execution_count": null,
      "outputs": [
        {
          "output_type": "stream",
          "name": "stdout",
          "text": [
            "Epoch 1/30\n",
            "93/93 [==============================] - 89s 952ms/step - loss: 2.6632 - accuracy: 0.2509 - val_loss: 2.7672 - val_accuracy: 0.3365\n",
            "Epoch 2/30\n",
            "93/93 [==============================] - 92s 988ms/step - loss: 2.3578 - accuracy: 0.2981 - val_loss: 2.4873 - val_accuracy: 0.3365\n",
            "Epoch 3/30\n",
            "93/93 [==============================] - 86s 928ms/step - loss: 2.2996 - accuracy: 0.3050 - val_loss: 2.2593 - val_accuracy: 0.3391\n",
            "Epoch 4/30\n",
            "93/93 [==============================] - 87s 933ms/step - loss: 2.1094 - accuracy: 0.3801 - val_loss: 1.8879 - val_accuracy: 0.4611\n",
            "Epoch 5/30\n",
            "93/93 [==============================] - 91s 980ms/step - loss: 1.7534 - accuracy: 0.5006 - val_loss: 1.5208 - val_accuracy: 0.5813\n",
            "Epoch 6/30\n",
            "93/93 [==============================] - 86s 930ms/step - loss: 1.4979 - accuracy: 0.5690 - val_loss: 1.3772 - val_accuracy: 0.6168\n",
            "Epoch 7/30\n",
            "93/93 [==============================] - 89s 959ms/step - loss: 1.2889 - accuracy: 0.6175 - val_loss: 1.2856 - val_accuracy: 0.6306\n",
            "Epoch 8/30\n",
            "93/93 [==============================] - 92s 995ms/step - loss: 1.1060 - accuracy: 0.6669 - val_loss: 1.2189 - val_accuracy: 0.6514\n",
            "Epoch 9/30\n",
            "93/93 [==============================] - 88s 942ms/step - loss: 0.9489 - accuracy: 0.7052 - val_loss: 1.0187 - val_accuracy: 0.7145\n",
            "Epoch 10/30\n",
            "93/93 [==============================] - 89s 953ms/step - loss: 0.7826 - accuracy: 0.7563 - val_loss: 0.9196 - val_accuracy: 0.7509\n",
            "Epoch 11/30\n",
            "93/93 [==============================] - 91s 973ms/step - loss: 0.6583 - accuracy: 0.7957 - val_loss: 0.9239 - val_accuracy: 0.7587\n",
            "Epoch 12/30\n",
            "93/93 [==============================] - 88s 942ms/step - loss: 0.5198 - accuracy: 0.8340 - val_loss: 0.8684 - val_accuracy: 0.7846\n",
            "Epoch 13/30\n",
            "93/93 [==============================] - 92s 986ms/step - loss: 0.4103 - accuracy: 0.8677 - val_loss: 0.8539 - val_accuracy: 0.7915\n",
            "Epoch 14/30\n",
            "93/93 [==============================] - 87s 939ms/step - loss: 0.3739 - accuracy: 0.8840 - val_loss: 0.7990 - val_accuracy: 0.8010\n",
            "Epoch 15/30\n",
            "93/93 [==============================] - 88s 946ms/step - loss: 0.3210 - accuracy: 0.8974 - val_loss: 0.9295 - val_accuracy: 0.7993\n",
            "Epoch 16/30\n",
            "93/93 [==============================] - 91s 984ms/step - loss: 0.2685 - accuracy: 0.9149 - val_loss: 0.8221 - val_accuracy: 0.8201\n",
            "Epoch 17/30\n",
            "93/93 [==============================] - 87s 936ms/step - loss: 0.2291 - accuracy: 0.9323 - val_loss: 0.8472 - val_accuracy: 0.8157\n",
            "Epoch 18/30\n",
            "93/93 [==============================] - 90s 963ms/step - loss: 0.2071 - accuracy: 0.9316 - val_loss: 0.9765 - val_accuracy: 0.8071\n",
            "Epoch 19/30\n",
            "93/93 [==============================] - 89s 947ms/step - loss: 0.1881 - accuracy: 0.9431 - val_loss: 0.9744 - val_accuracy: 0.8080\n",
            "Epoch 20/30\n",
            "93/93 [==============================] - 87s 941ms/step - loss: 0.1781 - accuracy: 0.9455 - val_loss: 0.9820 - val_accuracy: 0.8166\n",
            "Epoch 21/30\n",
            "93/93 [==============================] - 91s 983ms/step - loss: 0.1452 - accuracy: 0.9502 - val_loss: 0.9364 - val_accuracy: 0.8348\n",
            "Epoch 22/30\n",
            "93/93 [==============================] - 87s 938ms/step - loss: 0.1467 - accuracy: 0.9571 - val_loss: 0.9733 - val_accuracy: 0.8209\n",
            "Epoch 23/30\n",
            "93/93 [==============================] - 87s 938ms/step - loss: 0.1226 - accuracy: 0.9639 - val_loss: 0.9533 - val_accuracy: 0.8296\n",
            "Epoch 24/30\n",
            "93/93 [==============================] - 91s 980ms/step - loss: 0.1320 - accuracy: 0.9632 - val_loss: 0.8837 - val_accuracy: 0.8356\n",
            "Epoch 25/30\n",
            "93/93 [==============================] - 87s 937ms/step - loss: 0.0995 - accuracy: 0.9684 - val_loss: 0.9299 - val_accuracy: 0.8408\n",
            "Epoch 26/30\n",
            "93/93 [==============================] - 87s 935ms/step - loss: 0.1043 - accuracy: 0.9703 - val_loss: 1.0148 - val_accuracy: 0.8330\n",
            "Epoch 27/30\n",
            "93/93 [==============================] - 91s 980ms/step - loss: 0.1123 - accuracy: 0.9686 - val_loss: 0.8716 - val_accuracy: 0.8391\n",
            "Epoch 28/30\n",
            "93/93 [==============================] - 87s 939ms/step - loss: 0.0886 - accuracy: 0.9745 - val_loss: 0.9153 - val_accuracy: 0.8382\n",
            "Epoch 29/30\n",
            "93/93 [==============================] - 92s 985ms/step - loss: 0.0735 - accuracy: 0.9779 - val_loss: 0.9642 - val_accuracy: 0.8365\n",
            "Epoch 30/30\n",
            "93/93 [==============================] - 89s 953ms/step - loss: 0.1075 - accuracy: 0.9660 - val_loss: 1.0057 - val_accuracy: 0.8227\n"
          ]
        },
        {
          "output_type": "execute_result",
          "data": {
            "text/plain": [
              "<keras.callbacks.History at 0x7ff64abbe250>"
            ]
          },
          "metadata": {},
          "execution_count": 29
        }
      ]
    },
    {
      "cell_type": "code",
      "source": [
        "model_2.evaluate(X_test, y_test)"
      ],
      "metadata": {
        "colab": {
          "base_uri": "https://localhost:8080/"
        },
        "id": "qfi05vvqLvTa",
        "outputId": "7f922b94-9fdf-4297-c4e0-9b261d055f67"
      },
      "execution_count": null,
      "outputs": [
        {
          "output_type": "stream",
          "name": "stdout",
          "text": [
            "37/37 [==============================] - 6s 155ms/step - loss: 1.0057 - accuracy: 0.8227\n"
          ]
        },
        {
          "output_type": "execute_result",
          "data": {
            "text/plain": [
              "[1.005708932876587, 0.8226643800735474]"
            ]
          },
          "metadata": {},
          "execution_count": 30
        }
      ]
    },
    {
      "cell_type": "code",
      "source": [
        "plt.plot(history.history['accuracy'], label='Training accuracy')\n",
        "plt.plot(history.history['val_accuracy'], label='Validation accuracy')\n",
        "plt.xlabel('Epoch')\n",
        "plt.ylabel('Accuracy')\n",
        "plt.legend(loc='lower right')"
      ],
      "metadata": {
        "colab": {
          "base_uri": "https://localhost:8080/",
          "height": 297
        },
        "id": "D7FVExM1MW82",
        "outputId": "2485d159-77f2-41d2-c4fb-114055c8e96a"
      },
      "execution_count": null,
      "outputs": [
        {
          "output_type": "execute_result",
          "data": {
            "text/plain": [
              "<matplotlib.legend.Legend at 0x7ff650544940>"
            ]
          },
          "metadata": {},
          "execution_count": 31
        },
        {
          "output_type": "display_data",
          "data": {
            "text/plain": [
              "<Figure size 432x288 with 1 Axes>"
            ],
            "image/png": "[encoded data removed]"
          },
          "metadata": {
            "needs_background": "light"
          }
        }
      ]
    },
    {
      "cell_type": "code",
      "source": [
        "plt.plot(history.history['loss'], label='Training Loss')\n",
        "plt.plot(history.history['val_loss'], label='Validation Loss')\n",
        "plt.xlabel('Epoch')\n",
        "plt.ylabel('Loss')\n",
        "plt.legend(loc='upper right')"
      ],
      "metadata": {
        "colab": {
          "base_uri": "https://localhost:8080/",
          "height": 297
        },
        "id": "eFO5iB8qMWx2",
        "outputId": "3fc1653b-e02b-44d2-f7bc-aaf57cbbd812"
      },
      "execution_count": null,
      "outputs": [
        {
          "output_type": "execute_result",
          "data": {
            "text/plain": [
              "<matplotlib.legend.Legend at 0x7ff65042ca00>"
            ]
          },
          "metadata": {},
          "execution_count": 32
        },
        {
          "output_type": "display_data",
          "data": {
            "text/plain": [
              "<Figure size 432x288 with 1 Axes>"
            ],
            "image/png": "[encoded data removed]"
          },
          "metadata": {
            "needs_background": "light"
          }
        }
      ]
    },
    {
      "cell_type": "markdown",
      "source": [
        "**Model Prediction**"
      ],
      "metadata": {
        "id": "YUxOcWUmcsIn"
      }
    },
    {
      "cell_type": "code",
      "source": [
        "def tryImages(path):\n",
        "  coin = []\n",
        "  for deg in range(0, 360, 90):\n",
        "    coin.append(rotateImage(path, degree))\n",
        "    \n",
        "  return np.array(coin)"
      ],
      "metadata": {
        "id": "YpEVymG1Ancw"
      },
      "execution_count": null,
      "outputs": []
    },
    {
      "cell_type": "code",
      "source": [
        "paths = '/content/drive/MyDrive/DeepLearningFall23/Project/coin_images/all_coins/27ad5d7140.jpg'\n",
        "trial = tryImages(paths)\n",
        "img_prediction = model_2.predict(trial)\n",
        "score = tf.nn.softmax(img_prediction[0])\n",
        "print(\n",
        "    \"This image most likely belongs to {} with a {:.2f} percent confidence.\"\n",
        "    .format(class_names[np.argmax(score)], 100 * np.max(score))\n",
        ")"
      ],
      "metadata": {
        "colab": {
          "base_uri": "https://localhost:8080/"
        },
        "id": "hFAwr3AbMokM",
        "outputId": "04d26a5f-5e1c-471c-dd2e-4887509e2720"
      },
      "execution_count": null,
      "outputs": [
        {
          "output_type": "stream",
          "name": "stdout",
          "text": [
            "1/1 [==============================] - 0s 124ms/step\n",
            "This image most likely belongs to 9 with a 7.02 percent confidence.\n"
          ]
        }
      ]
    }
  ]
}